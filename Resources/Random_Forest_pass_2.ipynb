{
 "cells": [
  {
   "cell_type": "code",
   "execution_count": 1,
   "id": "c9bf2411",
   "metadata": {
    "scrolled": true
   },
   "outputs": [
    {
     "data": {
      "text/html": [
       "<div>\n",
       "<style scoped>\n",
       "    .dataframe tbody tr th:only-of-type {\n",
       "        vertical-align: middle;\n",
       "    }\n",
       "\n",
       "    .dataframe tbody tr th {\n",
       "        vertical-align: top;\n",
       "    }\n",
       "\n",
       "    .dataframe thead th {\n",
       "        text-align: right;\n",
       "    }\n",
       "</style>\n",
       "<table border=\"1\" class=\"dataframe\">\n",
       "  <thead>\n",
       "    <tr style=\"text-align: right;\">\n",
       "      <th></th>\n",
       "      <th>Position</th>\n",
       "      <th>Season</th>\n",
       "      <th>Tm</th>\n",
       "      <th>Team_Name</th>\n",
       "      <th>Lg</th>\n",
       "      <th>G</th>\n",
       "      <th>W</th>\n",
       "      <th>L</th>\n",
       "      <th>W/L%</th>\n",
       "      <th>MOV</th>\n",
       "      <th>...</th>\n",
       "      <th>eFG%</th>\n",
       "      <th>TS%</th>\n",
       "      <th>TOV%</th>\n",
       "      <th>ORB%</th>\n",
       "      <th>FT/FGA</th>\n",
       "      <th>opp_eFG%</th>\n",
       "      <th>opp_TS%</th>\n",
       "      <th>opp_TOV%</th>\n",
       "      <th>opp_ORB%</th>\n",
       "      <th>opp_FT/FGA</th>\n",
       "    </tr>\n",
       "  </thead>\n",
       "  <tbody>\n",
       "    <tr>\n",
       "      <th>0</th>\n",
       "      <td>0</td>\n",
       "      <td>2020-21</td>\n",
       "      <td>WAS</td>\n",
       "      <td>Washington Wizards</td>\n",
       "      <td>NBA</td>\n",
       "      <td>72</td>\n",
       "      <td>34</td>\n",
       "      <td>38</td>\n",
       "      <td>0.472</td>\n",
       "      <td>-1.83</td>\n",
       "      <td>...</td>\n",
       "      <td>0.531</td>\n",
       "      <td>0.569</td>\n",
       "      <td>12.3</td>\n",
       "      <td>21.3</td>\n",
       "      <td>0.221</td>\n",
       "      <td>0.539</td>\n",
       "      <td>0.576</td>\n",
       "      <td>12.5</td>\n",
       "      <td>22.4</td>\n",
       "      <td>0.217</td>\n",
       "    </tr>\n",
       "    <tr>\n",
       "      <th>1</th>\n",
       "      <td>0</td>\n",
       "      <td>2020-21</td>\n",
       "      <td>UTA</td>\n",
       "      <td>Utah Jazz</td>\n",
       "      <td>NBA</td>\n",
       "      <td>72</td>\n",
       "      <td>52</td>\n",
       "      <td>20</td>\n",
       "      <td>0.722</td>\n",
       "      <td>9.25</td>\n",
       "      <td>...</td>\n",
       "      <td>0.563</td>\n",
       "      <td>0.597</td>\n",
       "      <td>12.7</td>\n",
       "      <td>24.5</td>\n",
       "      <td>0.195</td>\n",
       "      <td>0.507</td>\n",
       "      <td>0.537</td>\n",
       "      <td>10.3</td>\n",
       "      <td>20.7</td>\n",
       "      <td>0.159</td>\n",
       "    </tr>\n",
       "    <tr>\n",
       "      <th>2</th>\n",
       "      <td>0</td>\n",
       "      <td>2020-21</td>\n",
       "      <td>TOR</td>\n",
       "      <td>Toronto Raptors</td>\n",
       "      <td>NBA</td>\n",
       "      <td>72</td>\n",
       "      <td>27</td>\n",
       "      <td>45</td>\n",
       "      <td>0.375</td>\n",
       "      <td>-0.47</td>\n",
       "      <td>...</td>\n",
       "      <td>0.529</td>\n",
       "      <td>0.567</td>\n",
       "      <td>11.9</td>\n",
       "      <td>20.8</td>\n",
       "      <td>0.196</td>\n",
       "      <td>0.543</td>\n",
       "      <td>0.584</td>\n",
       "      <td>14.4</td>\n",
       "      <td>23.7</td>\n",
       "      <td>0.234</td>\n",
       "    </tr>\n",
       "    <tr>\n",
       "      <th>3</th>\n",
       "      <td>0</td>\n",
       "      <td>2020-21</td>\n",
       "      <td>SAS</td>\n",
       "      <td>San Antonio Spurs</td>\n",
       "      <td>NBA</td>\n",
       "      <td>72</td>\n",
       "      <td>33</td>\n",
       "      <td>39</td>\n",
       "      <td>0.458</td>\n",
       "      <td>-1.74</td>\n",
       "      <td>...</td>\n",
       "      <td>0.517</td>\n",
       "      <td>0.554</td>\n",
       "      <td>10.2</td>\n",
       "      <td>20.0</td>\n",
       "      <td>0.192</td>\n",
       "      <td>0.541</td>\n",
       "      <td>0.570</td>\n",
       "      <td>11.8</td>\n",
       "      <td>22.7</td>\n",
       "      <td>0.174</td>\n",
       "    </tr>\n",
       "    <tr>\n",
       "      <th>4</th>\n",
       "      <td>0</td>\n",
       "      <td>2020-21</td>\n",
       "      <td>SAC</td>\n",
       "      <td>Sacramento Kings</td>\n",
       "      <td>NBA</td>\n",
       "      <td>72</td>\n",
       "      <td>31</td>\n",
       "      <td>41</td>\n",
       "      <td>0.431</td>\n",
       "      <td>-3.68</td>\n",
       "      <td>...</td>\n",
       "      <td>0.549</td>\n",
       "      <td>0.578</td>\n",
       "      <td>12.0</td>\n",
       "      <td>21.3</td>\n",
       "      <td>0.185</td>\n",
       "      <td>0.557</td>\n",
       "      <td>0.591</td>\n",
       "      <td>12.1</td>\n",
       "      <td>25.0</td>\n",
       "      <td>0.199</td>\n",
       "    </tr>\n",
       "  </tbody>\n",
       "</table>\n",
       "<p>5 rows × 25 columns</p>\n",
       "</div>"
      ],
      "text/plain": [
       "   Position   Season   Tm           Team_Name   Lg   G   W   L   W/L%   MOV  \\\n",
       "0         0  2020-21  WAS  Washington Wizards  NBA  72  34  38  0.472 -1.83   \n",
       "1         0  2020-21  UTA           Utah Jazz  NBA  72  52  20  0.722  9.25   \n",
       "2         0  2020-21  TOR     Toronto Raptors  NBA  72  27  45  0.375 -0.47   \n",
       "3         0  2020-21  SAS   San Antonio Spurs  NBA  72  33  39  0.458 -1.74   \n",
       "4         0  2020-21  SAC    Sacramento Kings  NBA  72  31  41  0.431 -3.68   \n",
       "\n",
       "   ...   eFG%    TS%  TOV%  ORB%  FT/FGA  opp_eFG%  opp_TS%  opp_TOV%  \\\n",
       "0  ...  0.531  0.569  12.3  21.3   0.221     0.539    0.576      12.5   \n",
       "1  ...  0.563  0.597  12.7  24.5   0.195     0.507    0.537      10.3   \n",
       "2  ...  0.529  0.567  11.9  20.8   0.196     0.543    0.584      14.4   \n",
       "3  ...  0.517  0.554  10.2  20.0   0.192     0.541    0.570      11.8   \n",
       "4  ...  0.549  0.578  12.0  21.3   0.185     0.557    0.591      12.1   \n",
       "\n",
       "   opp_ORB%  opp_FT/FGA  \n",
       "0      22.4       0.217  \n",
       "1      20.7       0.159  \n",
       "2      23.7       0.234  \n",
       "3      22.7       0.174  \n",
       "4      25.0       0.199  \n",
       "\n",
       "[5 rows x 25 columns]"
      ]
     },
     "execution_count": 1,
     "metadata": {},
     "output_type": "execute_result"
    }
   ],
   "source": [
    "# Random Forest Model\n",
    "# Import our dependencies\n",
    "from sklearn.model_selection import train_test_split\n",
    "from sklearn.preprocessing import StandardScaler\n",
    "from sklearn.ensemble import RandomForestClassifier\n",
    "from sklearn.metrics import accuracy_score\n",
    "# from sklearn.preprocessing import OneHotEncoder\n",
    "import pandas as pd\n",
    "# import tensorflow as tf\n",
    "\n",
    "# Import our input dataset\n",
    "stats_df = pd.read_csv('stats_target_clean2.csv')\n",
    "stats_df.head()"
   ]
  },
  {
   "cell_type": "code",
   "execution_count": 2,
   "id": "b0ae5c19",
   "metadata": {},
   "outputs": [],
   "source": [
    "# !pip install tensorflow"
   ]
  },
  {
   "cell_type": "code",
   "execution_count": 3,
   "id": "e2b7ccf5",
   "metadata": {},
   "outputs": [
    {
     "data": {
      "text/html": [
       "<div>\n",
       "<style scoped>\n",
       "    .dataframe tbody tr th:only-of-type {\n",
       "        vertical-align: middle;\n",
       "    }\n",
       "\n",
       "    .dataframe tbody tr th {\n",
       "        vertical-align: top;\n",
       "    }\n",
       "\n",
       "    .dataframe thead th {\n",
       "        text-align: right;\n",
       "    }\n",
       "</style>\n",
       "<table border=\"1\" class=\"dataframe\">\n",
       "  <thead>\n",
       "    <tr style=\"text-align: right;\">\n",
       "      <th></th>\n",
       "      <th>Season</th>\n",
       "      <th>Tm</th>\n",
       "      <th>Team_Name</th>\n",
       "    </tr>\n",
       "  </thead>\n",
       "  <tbody>\n",
       "    <tr>\n",
       "      <th>0</th>\n",
       "      <td>2020-21</td>\n",
       "      <td>WAS</td>\n",
       "      <td>Washington Wizards</td>\n",
       "    </tr>\n",
       "    <tr>\n",
       "      <th>1</th>\n",
       "      <td>2020-21</td>\n",
       "      <td>UTA</td>\n",
       "      <td>Utah Jazz</td>\n",
       "    </tr>\n",
       "    <tr>\n",
       "      <th>2</th>\n",
       "      <td>2020-21</td>\n",
       "      <td>TOR</td>\n",
       "      <td>Toronto Raptors</td>\n",
       "    </tr>\n",
       "    <tr>\n",
       "      <th>3</th>\n",
       "      <td>2020-21</td>\n",
       "      <td>SAS</td>\n",
       "      <td>San Antonio Spurs</td>\n",
       "    </tr>\n",
       "    <tr>\n",
       "      <th>4</th>\n",
       "      <td>2020-21</td>\n",
       "      <td>SAC</td>\n",
       "      <td>Sacramento Kings</td>\n",
       "    </tr>\n",
       "  </tbody>\n",
       "</table>\n",
       "</div>"
      ],
      "text/plain": [
       "    Season   Tm           Team_Name\n",
       "0  2020-21  WAS  Washington Wizards\n",
       "1  2020-21  UTA           Utah Jazz\n",
       "2  2020-21  TOR     Toronto Raptors\n",
       "3  2020-21  SAS   San Antonio Spurs\n",
       "4  2020-21  SAC    Sacramento Kings"
      ]
     },
     "execution_count": 3,
     "metadata": {},
     "output_type": "execute_result"
    }
   ],
   "source": [
    "# Pull out Season, TM and Team_Name into DF\n",
    "name_df = stats_df[['Season', 'Tm', 'Team_Name']]\n",
    "name_df.head()"
   ]
  },
  {
   "cell_type": "code",
   "execution_count": 4,
   "id": "a015f696",
   "metadata": {},
   "outputs": [],
   "source": [
    "# Drop LG, Season, TM, Team_Name, G, W, L columns\n",
    "stats_df.drop(['Lg','Season','Tm', 'Team_Name', 'G', 'W', 'L'], axis=1, inplace=True)"
   ]
  },
  {
   "cell_type": "code",
   "execution_count": 5,
   "id": "26b89609",
   "metadata": {},
   "outputs": [
    {
     "data": {
      "text/html": [
       "<div>\n",
       "<style scoped>\n",
       "    .dataframe tbody tr th:only-of-type {\n",
       "        vertical-align: middle;\n",
       "    }\n",
       "\n",
       "    .dataframe tbody tr th {\n",
       "        vertical-align: top;\n",
       "    }\n",
       "\n",
       "    .dataframe thead th {\n",
       "        text-align: right;\n",
       "    }\n",
       "</style>\n",
       "<table border=\"1\" class=\"dataframe\">\n",
       "  <thead>\n",
       "    <tr style=\"text-align: right;\">\n",
       "      <th></th>\n",
       "      <th>Position</th>\n",
       "      <th>W/L%</th>\n",
       "      <th>MOV</th>\n",
       "      <th>SOS</th>\n",
       "      <th>SRS</th>\n",
       "      <th>Pace</th>\n",
       "      <th>ORtg</th>\n",
       "      <th>DRtg</th>\n",
       "      <th>eFG%</th>\n",
       "      <th>TS%</th>\n",
       "      <th>TOV%</th>\n",
       "      <th>ORB%</th>\n",
       "      <th>FT/FGA</th>\n",
       "      <th>opp_eFG%</th>\n",
       "      <th>opp_TS%</th>\n",
       "      <th>opp_TOV%</th>\n",
       "      <th>opp_ORB%</th>\n",
       "      <th>opp_FT/FGA</th>\n",
       "    </tr>\n",
       "  </thead>\n",
       "  <tbody>\n",
       "    <tr>\n",
       "      <th>0</th>\n",
       "      <td>0</td>\n",
       "      <td>0.472</td>\n",
       "      <td>-1.83</td>\n",
       "      <td>-0.01</td>\n",
       "      <td>-1.85</td>\n",
       "      <td>104.1</td>\n",
       "      <td>111.2</td>\n",
       "      <td>113.0</td>\n",
       "      <td>0.531</td>\n",
       "      <td>0.569</td>\n",
       "      <td>12.3</td>\n",
       "      <td>21.3</td>\n",
       "      <td>0.221</td>\n",
       "      <td>0.539</td>\n",
       "      <td>0.576</td>\n",
       "      <td>12.5</td>\n",
       "      <td>22.4</td>\n",
       "      <td>0.217</td>\n",
       "    </tr>\n",
       "    <tr>\n",
       "      <th>1</th>\n",
       "      <td>0</td>\n",
       "      <td>0.722</td>\n",
       "      <td>9.25</td>\n",
       "      <td>-0.29</td>\n",
       "      <td>8.97</td>\n",
       "      <td>98.5</td>\n",
       "      <td>117.6</td>\n",
       "      <td>108.3</td>\n",
       "      <td>0.563</td>\n",
       "      <td>0.597</td>\n",
       "      <td>12.7</td>\n",
       "      <td>24.5</td>\n",
       "      <td>0.195</td>\n",
       "      <td>0.507</td>\n",
       "      <td>0.537</td>\n",
       "      <td>10.3</td>\n",
       "      <td>20.7</td>\n",
       "      <td>0.159</td>\n",
       "    </tr>\n",
       "    <tr>\n",
       "      <th>2</th>\n",
       "      <td>0</td>\n",
       "      <td>0.375</td>\n",
       "      <td>-0.47</td>\n",
       "      <td>-0.07</td>\n",
       "      <td>-0.54</td>\n",
       "      <td>99.2</td>\n",
       "      <td>112.0</td>\n",
       "      <td>112.5</td>\n",
       "      <td>0.529</td>\n",
       "      <td>0.567</td>\n",
       "      <td>11.9</td>\n",
       "      <td>20.8</td>\n",
       "      <td>0.196</td>\n",
       "      <td>0.543</td>\n",
       "      <td>0.584</td>\n",
       "      <td>14.4</td>\n",
       "      <td>23.7</td>\n",
       "      <td>0.234</td>\n",
       "    </tr>\n",
       "    <tr>\n",
       "      <th>3</th>\n",
       "      <td>0</td>\n",
       "      <td>0.458</td>\n",
       "      <td>-1.74</td>\n",
       "      <td>0.15</td>\n",
       "      <td>-1.58</td>\n",
       "      <td>98.9</td>\n",
       "      <td>111.0</td>\n",
       "      <td>112.8</td>\n",
       "      <td>0.517</td>\n",
       "      <td>0.554</td>\n",
       "      <td>10.2</td>\n",
       "      <td>20.0</td>\n",
       "      <td>0.192</td>\n",
       "      <td>0.541</td>\n",
       "      <td>0.570</td>\n",
       "      <td>11.8</td>\n",
       "      <td>22.7</td>\n",
       "      <td>0.174</td>\n",
       "    </tr>\n",
       "    <tr>\n",
       "      <th>4</th>\n",
       "      <td>0</td>\n",
       "      <td>0.431</td>\n",
       "      <td>-3.68</td>\n",
       "      <td>0.23</td>\n",
       "      <td>-3.45</td>\n",
       "      <td>100.0</td>\n",
       "      <td>113.6</td>\n",
       "      <td>117.2</td>\n",
       "      <td>0.549</td>\n",
       "      <td>0.578</td>\n",
       "      <td>12.0</td>\n",
       "      <td>21.3</td>\n",
       "      <td>0.185</td>\n",
       "      <td>0.557</td>\n",
       "      <td>0.591</td>\n",
       "      <td>12.1</td>\n",
       "      <td>25.0</td>\n",
       "      <td>0.199</td>\n",
       "    </tr>\n",
       "  </tbody>\n",
       "</table>\n",
       "</div>"
      ],
      "text/plain": [
       "   Position   W/L%   MOV   SOS   SRS   Pace   ORtg   DRtg   eFG%    TS%  TOV%  \\\n",
       "0         0  0.472 -1.83 -0.01 -1.85  104.1  111.2  113.0  0.531  0.569  12.3   \n",
       "1         0  0.722  9.25 -0.29  8.97   98.5  117.6  108.3  0.563  0.597  12.7   \n",
       "2         0  0.375 -0.47 -0.07 -0.54   99.2  112.0  112.5  0.529  0.567  11.9   \n",
       "3         0  0.458 -1.74  0.15 -1.58   98.9  111.0  112.8  0.517  0.554  10.2   \n",
       "4         0  0.431 -3.68  0.23 -3.45  100.0  113.6  117.2  0.549  0.578  12.0   \n",
       "\n",
       "   ORB%  FT/FGA  opp_eFG%  opp_TS%  opp_TOV%  opp_ORB%  opp_FT/FGA  \n",
       "0  21.3   0.221     0.539    0.576      12.5      22.4       0.217  \n",
       "1  24.5   0.195     0.507    0.537      10.3      20.7       0.159  \n",
       "2  20.8   0.196     0.543    0.584      14.4      23.7       0.234  \n",
       "3  20.0   0.192     0.541    0.570      11.8      22.7       0.174  \n",
       "4  21.3   0.185     0.557    0.591      12.1      25.0       0.199  "
      ]
     },
     "execution_count": 5,
     "metadata": {},
     "output_type": "execute_result"
    }
   ],
   "source": [
    "stats_df.head()"
   ]
  },
  {
   "cell_type": "code",
   "execution_count": 6,
   "id": "1f553bf5",
   "metadata": {},
   "outputs": [],
   "source": [
    "# Remove Position target from features data\n",
    "y = stats_df.Position\n",
    "X = stats_df.drop(columns=[\"Position\"])\n",
    "\n",
    "# Split training/test datasets\n",
    "X_train, X_test, y_train, y_test = train_test_split(X, y, random_state=1, stratify=y)\n",
    "\n",
    "# Create a StandardScaler instance\n",
    "scaler = StandardScaler()\n",
    "\n",
    "# Fit the StandardScaler\n",
    "X_scaler = scaler.fit(X_train)\n",
    "\n",
    "# Scale the data\n",
    "X_train_scaled = X_scaler.transform(X_train)\n",
    "X_test_scaled = X_scaler.transform(X_test)"
   ]
  },
  {
   "cell_type": "code",
   "execution_count": 7,
   "id": "ddf00de9",
   "metadata": {},
   "outputs": [
    {
     "name": "stdout",
     "output_type": "stream",
     "text": [
      " Random forest predictive accuracy: 0.970\n"
     ]
    }
   ],
   "source": [
    "# Create a random forest classifier.\n",
    "rf_model = RandomForestClassifier(n_estimators=500, random_state=78)\n",
    "\n",
    "# Fitting the model\n",
    "rf_model = rf_model.fit(X_train_scaled, y_train)\n",
    "\n",
    "# Evaluate the model\n",
    "y_pred = rf_model.predict(X_test_scaled)\n",
    "print(f\" Random forest predictive accuracy: {accuracy_score(y_test,y_pred):.3f}\")"
   ]
  },
  {
   "cell_type": "code",
   "execution_count": 8,
   "id": "c49d5fd4",
   "metadata": {},
   "outputs": [
    {
     "data": {
      "text/plain": [
       "array([0], dtype=int64)"
      ]
     },
     "execution_count": 8,
     "metadata": {},
     "output_type": "execute_result"
    }
   ],
   "source": [
    "# Predict WAS stats from cy_stats.csv\n",
    "WAS_scaler = scaler.fit([[0.714, 2.57, 1.11, 3.68, 99, 108.8, 106.3, 0.505, 0.549, 11.5, 20.4, 0.213, 0.492, 0.535, 11, 20.5, 0.197\n",
    "                  ]])\n",
    "WAS_scaled = WAS_scaler.transform([[0.714, 2.57, 1.11, 3.68, 99, 108.8, 106.3, 0.505, 0.549, 11.5, 20.4, 0.213, 0.492, 0.535, 11, 20.5, 0.197\n",
    "                  ]])\n",
    "rf_model.predict(WAS_scaled)"
   ]
  },
  {
   "cell_type": "code",
   "execution_count": 9,
   "id": "46da54dc",
   "metadata": {},
   "outputs": [
    {
     "data": {
      "text/plain": [
       "array([0], dtype=int64)"
      ]
     },
     "execution_count": 9,
     "metadata": {},
     "output_type": "execute_result"
    }
   ],
   "source": [
    "# Predict MIA stats from cy_stats.csv\n",
    "MIA_scaler = scaler.fit([[0.833,17,1.07,18.07,99.9,112.2,95.5,0.525,0.565,13.6,27.5,0.197,0.464,0.501,13.4,15.9,0.181\n",
    "                  ]])\n",
    "MIA_scaled = MIA_scaler.transform([[0.833,17,1.07,18.07,99.9,112.2,95.5,0.525,0.565,13.6,27.5,0.197,0.464,0.501,13.4,15.9,0.181\n",
    "                  ]])\n",
    "rf_model.predict(MIA_scaled)"
   ]
  },
  {
   "cell_type": "code",
   "execution_count": 10,
   "id": "3091e881",
   "metadata": {},
   "outputs": [
    {
     "data": {
      "text/plain": [
       "array([0], dtype=int64)"
      ]
     },
     "execution_count": 10,
     "metadata": {},
     "output_type": "execute_result"
    }
   ],
   "source": [
    "# Predict UTA stats from cy_stats.csv\n",
    "UTA_scaler = scaler.fit([[0.833,12.83,-3.08,9.76,99.3,111.9,99,0.526,0.574,14.2,24.6,0.236,0.45,0.485,10.8,23.1,0.164\n",
    "                  ]])\n",
    "UTA_scaled = UTA_scaler.transform([[0.833,12.83,-3.08,9.76,99.3,111.9,99,0.526,0.574,14.2,24.6,0.236,0.45,0.485,10.8,23.1,0.164\n",
    "                  ]])\n",
    "rf_model.predict(UTA_scaled)"
   ]
  },
  {
   "cell_type": "code",
   "execution_count": 11,
   "id": "97294b09",
   "metadata": {},
   "outputs": [
    {
     "data": {
      "text/plain": [
       "array([0], dtype=int64)"
      ]
     },
     "execution_count": 11,
     "metadata": {},
     "output_type": "execute_result"
    }
   ],
   "source": [
    "# Predict TOR stats from cy_stats.csv\n",
    "TOR_scaler = scaler.fit([[0.625,4.63,1.25,5.88,97.6,107.4,102.7,0.487,0.518,12.1,29.8,0.158,0.521,0.554,16.8,20.6,0.178\n",
    "                  ]])\n",
    "TOR_scaled = TOR_scaler.transform([[0.625,4.63,1.25,5.88,97.6,107.4,102.7,0.487,0.518,12.1,29.8,0.158,0.521,0.554,16.8,20.6,0.178\n",
    "                  ]])\n",
    "rf_model.predict(TOR_scaled)"
   ]
  },
  {
   "cell_type": "code",
   "execution_count": 12,
   "id": "45ecbc17",
   "metadata": {},
   "outputs": [
    {
     "data": {
      "text/plain": [
       "array([0], dtype=int64)"
      ]
     },
     "execution_count": 12,
     "metadata": {},
     "output_type": "execute_result"
    }
   ],
   "source": [
    "# Predict SAS stats from cy_stats.csv\n",
    "SAS_scaler = scaler.fit([[0.286,-0.43,-1.5,-1.93,101.7,106.6,107,0.526,0.542,12.2,22.2,0.113,0.549,0.568,15.2,21.4,0.13\n",
    "                  ]])\n",
    "SAS_scaled = SAS_scaler.transform([[0.286,-0.43,-1.5,-1.93,101.7,106.6,107,0.526,0.542,12.2,22.2,0.113,0.549,0.568,15.2,21.4,0.13\n",
    "                  ]])\n",
    "rf_model.predict(SAS_scaled)"
   ]
  },
  {
   "cell_type": "code",
   "execution_count": 13,
   "id": "7f8f877b",
   "metadata": {},
   "outputs": [
    {
     "data": {
      "text/plain": [
       "array([0], dtype=int64)"
      ]
     },
     "execution_count": 13,
     "metadata": {},
     "output_type": "execute_result"
    }
   ],
   "source": [
    "# Predict SAC stats from cy_stats.csv\n",
    "SAC_scaler = scaler.fit([[0.5,-2.83,-1.06,-3.89,101.1,107.8,110.6,0.508,0.543,12.1,21.7,0.177,0.504,0.54,10.1,24.7,0.187\n",
    "                  ]])\n",
    "SAC_scaled = SAC_scaler.transform([[0.5,-2.83,-1.06,-3.89,101.1,107.8,110.6,0.508,0.543,12.1,21.7,0.177,0.504,0.54,10.1,24.7,0.187\n",
    "                  ]])\n",
    "rf_model.predict(SAC_scaled)"
   ]
  },
  {
   "cell_type": "code",
   "execution_count": 14,
   "id": "1182826f",
   "metadata": {},
   "outputs": [
    {
     "data": {
      "text/plain": [
       "array([0], dtype=int64)"
      ]
     },
     "execution_count": 14,
     "metadata": {},
     "output_type": "execute_result"
    }
   ],
   "source": [
    "# Predict POR stats from cy_stats.csv\n",
    "POR_scaler = scaler.fit([[0.429,1.86,-0.95,0.91,100.6,111.3,109.4,0.54,0.565,13.4,25.9,0.154,0.54,0.56,12.2,19.1,0.146\n",
    "                  ]])\n",
    "POR_scaled = POR_scaler.transform([[0.429,1.86,-0.95,0.91,100.6,111.3,109.4,0.54,0.565,13.4,25.9,0.154,0.54,0.56,12.2,19.1,0.146\n",
    "                  ]])\n",
    "rf_model.predict(POR_scaled)"
   ]
  },
  {
   "cell_type": "code",
   "execution_count": 15,
   "id": "1e7610f7",
   "metadata": {},
   "outputs": [
    {
     "data": {
      "text/plain": [
       "array([0], dtype=int64)"
      ]
     },
     "execution_count": 15,
     "metadata": {},
     "output_type": "execute_result"
    }
   ],
   "source": [
    "# Predict PHO stats from cy_stats.csv\n",
    "PHO_scaler = scaler.fit([[0.4,-5,-1.64,-6.64,100.8,104.4,109.3,0.511,0.539,12.5,20.4,0.175,0.552,0.571,13.4,18.7,0.122\n",
    "]])\n",
    "PHO_scaled = PHO_scaler.transform([[0.4,-5,-1.64,-6.64,100.8,104.4,109.3,0.511,0.539,12.5,20.4,0.175,0.552,0.571,13.4,18.7,0.122\n",
    "                  ]])\n",
    "rf_model.predict(PHO_scaled)"
   ]
  },
  {
   "cell_type": "code",
   "execution_count": 16,
   "id": "97c12143",
   "metadata": {},
   "outputs": [
    {
     "data": {
      "text/plain": [
       "array([0], dtype=int64)"
      ]
     },
     "execution_count": 16,
     "metadata": {},
     "output_type": "execute_result"
    }
   ],
   "source": [
    "# Predict PHI stats from cy_stats.csv\n",
    "PHI_scaler = scaler.fit([[0.714,8.57,-2.13,6.44,96.3,116.4,107.5,0.571,0.607,12.7,19,0.186,0.507,0.537,13,26.3,0.16\n",
    "                  ]])\n",
    "PHI_scaled = PHI_scaler.transform([[0.714,8.57,-2.13,6.44,96.3,116.4,107.5,0.571,0.607,12.7,19,0.186,0.507,0.537,13,26.3,0.16\n",
    "                  ]])\n",
    "rf_model.predict(PHI_scaled)"
   ]
  },
  {
   "cell_type": "code",
   "execution_count": 17,
   "id": "058b3c12",
   "metadata": {},
   "outputs": [
    {
     "data": {
      "text/plain": [
       "array([0], dtype=int64)"
      ]
     },
     "execution_count": 17,
     "metadata": {},
     "output_type": "execute_result"
    }
   ],
   "source": [
    "# Predict ORL stats from cy_stats.csv\n",
    "ORL_scaler = scaler.fit([[0.25,-7.63,3.26,-4.37,98.1,105.9,113.7,0.518,0.551,15.3,24.4,0.183,0.525,0.554,10.8,25.5,0.174\n",
    "                  ]])\n",
    "ORL_scaled = ORL_scaler.transform([[0.25,-7.63,3.26,-4.37,98.1,105.9,113.7,0.518,0.551,15.3,24.4,0.183,0.525,0.554,10.8,25.5,0.174\n",
    "                  ]])\n",
    "rf_model.predict(ORL_scaled)"
   ]
  },
  {
   "cell_type": "code",
   "execution_count": 18,
   "id": "b204b827",
   "metadata": {},
   "outputs": [
    {
     "data": {
      "text/plain": [
       "array([0], dtype=int64)"
      ]
     },
     "execution_count": 18,
     "metadata": {},
     "output_type": "execute_result"
    }
   ],
   "source": [
    "# Predict OKC stats from cy_stats.csv\n",
    "OKC_scaler = scaler.fit([[0.143,-13.14,0.1,-13.05,99.6,97.1,110.3,0.472,0.505,13.8,18.3,0.164,0.541,0.565,12.9,22.8,0.133\n",
    "                  ]])\n",
    "OKC_scaled = OKC_scaler.transform([[0.143,-13.14,0.1,-13.05,99.6,97.1,110.3,0.472,0.505,13.8,18.3,0.164,0.541,0.565,12.9,22.8,0.133\n",
    "                  ]])\n",
    "rf_model.predict(OKC_scaled)"
   ]
  },
  {
   "cell_type": "code",
   "execution_count": 19,
   "id": "ce5ce3d9",
   "metadata": {},
   "outputs": [
    {
     "data": {
      "text/plain": [
       "array([0], dtype=int64)"
      ]
     },
     "execution_count": 19,
     "metadata": {},
     "output_type": "execute_result"
    }
   ],
   "source": [
    "# Predict NYK stats from cy_stats.csv\n",
    "NYK_scaler = scaler.fit([[0.714,4.86,0.52,5.38,98.1,114,109.2,0.558,0.585,12.6,20.6,0.18,0.501,0.543,11.6,23.2,0.195\n",
    "                  ]])\n",
    "NYK_scaled = NYK_scaler.transform([[0.714,4.86,0.52,5.38,98.1,114,109.2,0.558,0.585,12.6,20.6,0.18,0.501,0.543,11.6,23.2,0.195\n",
    "                  ]])\n",
    "rf_model.predict(NYK_scaled)"
   ]
  },
  {
   "cell_type": "code",
   "execution_count": 20,
   "id": "559597fa",
   "metadata": {},
   "outputs": [
    {
     "data": {
      "text/plain": [
       "array([0], dtype=int64)"
      ]
     },
     "execution_count": 20,
     "metadata": {},
     "output_type": "execute_result"
    }
   ],
   "source": [
    "# Predict NOP stats from cy_stats.csv\n",
    "NOP_scaler = scaler.fit([[0.143,-6.71,1.23,-5.48,99.7,104.6,111.4,0.491,0.525,14,26.4,0.16,0.532,0.569,12.2,21.6,0.196\n",
    "                  ]])\n",
    "NOP_scaled = NOP_scaler.transform([[0.143,-6.71,1.23,-5.48,99.7,104.6,111.4,0.491,0.525,14,26.4,0.16,0.532,0.569,12.2,21.6,0.196\n",
    "                  ]])\n",
    "rf_model.predict(NOP_scaled)"
   ]
  },
  {
   "cell_type": "code",
   "execution_count": 21,
   "id": "170e0b8e",
   "metadata": {},
   "outputs": [
    {
     "data": {
      "text/plain": [
       "array([0], dtype=int64)"
      ]
     },
     "execution_count": 21,
     "metadata": {},
     "output_type": "execute_result"
    }
   ],
   "source": [
    "# Predict MIN stats from cy_stats.csv\n",
    "MIN_scaler = scaler.fit([[0.5,0.17,-4.22,-4.06,100.3,102.9,102.7,0.486,0.516,14.3,26.4,0.153,0.486,0.525,16.6,30.5,0.197\n",
    "                  ]])\n",
    "MIN_scaled = MIN_scaler.transform([[0.5,0.17,-4.22,-4.06,100.3,102.9,102.7,0.486,0.516,14.3,26.4,0.153,0.486,0.525,16.6,30.5,0.197\n",
    "                  ]])\n",
    "rf_model.predict(MIN_scaled)"
   ]
  },
  {
   "cell_type": "code",
   "execution_count": 22,
   "id": "b2f97504",
   "metadata": {},
   "outputs": [
    {
     "data": {
      "text/plain": [
       "array([0], dtype=int64)"
      ]
     },
     "execution_count": 22,
     "metadata": {},
     "output_type": "execute_result"
    }
   ],
   "source": [
    "# Predict MIL stats from cy_stats.csv\n",
    "MIL_scaler = scaler.fit([[0.429,-3.57,3.87,0.3,102,106.1,109.6,0.509,0.541,12.5,20.1,0.171,0.535,0.564,12.2,20.1,0.173\n",
    "                  ]])\n",
    "MIL_scaled = MIL_scaler.transform([[0.429,-3.57,3.87,0.3,102,106.1,109.6,0.509,0.541,12.5,20.1,0.171,0.535,0.564,12.2,20.1,0.173\n",
    "                  ]])\n",
    "rf_model.predict(MIL_scaled)"
   ]
  },
  {
   "cell_type": "code",
   "execution_count": 23,
   "id": "66c4d4a9",
   "metadata": {},
   "outputs": [
    {
     "data": {
      "text/plain": [
       "array([0], dtype=int64)"
      ]
     },
     "execution_count": 23,
     "metadata": {},
     "output_type": "execute_result"
    }
   ],
   "source": [
    "# Predict ATL stats from cy_stats.csv\n",
    "ATL_scaler = scaler.fit([[0.571,1.29,-0.98,0.31,97.8,110.2,108.9,0.507,0.54,11.6,27.9,0.157,0.502,0.54,10.6,20.8,0.166\n",
    "                  ]])\n",
    "ATL_scaled = ATL_scaler.transform([[0.571,1.29,-0.98,0.31,97.8,110.2,108.9,0.507,0.54,11.6,27.9,0.157,0.502,0.54,10.6,20.8,0.166\n",
    "]])\n",
    "rf_model.predict(ATL_scaled)"
   ]
  },
  {
   "cell_type": "code",
   "execution_count": 24,
   "id": "7d6fe898",
   "metadata": {},
   "outputs": [
    {
     "data": {
      "text/plain": [
       "array([0], dtype=int64)"
      ]
     },
     "execution_count": 24,
     "metadata": {},
     "output_type": "execute_result"
    }
   ],
   "source": [
    "# Predict MEM stats from cy_stats.csv\n",
    "MEM_scaler = scaler.fit([[0.571,-2.86,1.75,-1.1,99.4,110.3,113.1,0.512,0.542,13,28.6,0.142,0.558,0.583,13,21.5,0.161\n",
    "                  ]])\n",
    "MEM_scaled = MEM_scaler.transform([[0.571,-2.86,1.75,-1.1,99.4,110.3,113.1,0.512,0.542,13,28.6,0.142,0.558,0.583,13,21.5,0.161\n",
    "                  ]])\n",
    "rf_model.predict(MEM_scaled)"
   ]
  },
  {
   "cell_type": "code",
   "execution_count": 25,
   "id": "35abb6ff",
   "metadata": {},
   "outputs": [
    {
     "data": {
      "text/plain": [
       "array([0], dtype=int64)"
      ]
     },
     "execution_count": 25,
     "metadata": {},
     "output_type": "execute_result"
    }
   ],
   "source": [
    "# Predict LAL stats from cy_stats.csv\n",
    "LAL_scaler = scaler.fit([[0.571,0.57,-4.88,-4.31,103.1,107.6,107,0.542,0.564,14.3,20.8,0.143,0.518,0.549,14.4,26.2,0.197\n",
    "                  ]])\n",
    "LAL_scaled = LAL_scaler.transform([[0.571,0.57,-4.88,-4.31,103.1,107.6,107,0.542,0.564,14.3,20.8,0.143,0.518,0.549,14.4,26.2,0.197\n",
    "                  ]])\n",
    "rf_model.predict(LAL_scaled)"
   ]
  },
  {
   "cell_type": "code",
   "execution_count": 26,
   "id": "adf95304",
   "metadata": {},
   "outputs": [
    {
     "data": {
      "text/plain": [
       "array([0], dtype=int64)"
      ]
     },
     "execution_count": 26,
     "metadata": {},
     "output_type": "execute_result"
    }
   ],
   "source": [
    "# Predict LAC stats from cy_stats.csv\n",
    "LAC_scaler = scaler.fit([[0.333,-0.83,-2.11,-2.94,101,101.2,102,0.486,0.511,10.7,18.1,0.135,0.496,0.531,16.3,25.8,0.18\n",
    "                  ]])\n",
    "LAC_scaled = LAC_scaler.transform([[0.333,-0.83,-2.11,-2.94,101,101.2,102,0.486,0.511,10.7,18.1,0.135,0.496,0.531,16.3,25.8,0.18\n",
    "                  ]])\n",
    "rf_model.predict(LAC_scaled)"
   ]
  },
  {
   "cell_type": "code",
   "execution_count": 27,
   "id": "690fd17b",
   "metadata": {},
   "outputs": [
    {
     "data": {
      "text/plain": [
       "array([0], dtype=int64)"
      ]
     },
     "execution_count": 27,
     "metadata": {},
     "output_type": "execute_result"
    }
   ],
   "source": [
    "# Predict IND stats from cy_stats.csv\n",
    "IND_scaler = scaler.fit([[0.25,-2,5.05,3.05,100.6,107.8,109.7,0.538,0.568,14.9,22.3,0.163,0.525,0.558,12.7,22.4,0.184\n",
    "                  ]])\n",
    "IND_scaled = IND_scaler.transform([[0.25,-2,5.05,3.05,100.6,107.8,109.7,0.538,0.568,14.9,22.3,0.163,0.525,0.558,12.7,22.4,0.184\n",
    "]])\n",
    "rf_model.predict(IND_scaled)"
   ]
  },
  {
   "cell_type": "code",
   "execution_count": 28,
   "id": "3a99c34f",
   "metadata": {},
   "outputs": [
    {
     "data": {
      "text/plain": [
       "array([0], dtype=int64)"
      ]
     },
     "execution_count": 28,
     "metadata": {},
     "output_type": "execute_result"
    }
   ],
   "source": [
    "# Predict HOU stats from cy_stats.csv\n",
    "HOU_scaler = scaler.fit([[0.167,-7.67,-3.49,-11.15,103.1,98.5,105.9,0.496,0.529,16.8,21.9,0.19,0.517,0.548,14.1,21.8,0.184\n",
    "                  ]])\n",
    "HOU_scaled = HOU_scaler.transform([[0.167,-7.67,-3.49,-11.15,103.1,98.5,105.9,0.496,0.529,16.8,21.9,0.19,0.517,0.548,14.1,21.8,0.184\n",
    "                  ]])\n",
    "rf_model.predict(HOU_scaled)"
   ]
  },
  {
   "cell_type": "code",
   "execution_count": 29,
   "id": "293da19e",
   "metadata": {},
   "outputs": [
    {
     "data": {
      "text/plain": [
       "array([0], dtype=int64)"
      ]
     },
     "execution_count": 29,
     "metadata": {},
     "output_type": "execute_result"
    }
   ],
   "source": [
    "# Predict GSW stats from cy_stats.csv\n",
    "GSW_scaler = scaler.fit([[0.833,7.83,-6.39,1.45,101.8,107,99.4,0.538,0.565,14.4,20.3,0.16,0.499,0.524,13.5,15.8,0.14\n",
    "                  ]])\n",
    "GSW_scaled = GSW_scaler.transform([[0.833,7.83,-6.39,1.45,101.8,107,99.4,0.538,0.565,14.4,20.3,0.16,0.499,0.524,13.5,15.8,0.14\n",
    "                  ]])\n",
    "rf_model.predict(GSW_scaled)"
   ]
  },
  {
   "cell_type": "code",
   "execution_count": 30,
   "id": "bec0fd0d",
   "metadata": {},
   "outputs": [
    {
     "data": {
      "text/plain": [
       "array([0], dtype=int64)"
      ]
     },
     "execution_count": 30,
     "metadata": {},
     "output_type": "execute_result"
    }
   ],
   "source": [
    "# Predict DET stats from cy_stats.csv\n",
    "DET_scaler = scaler.fit([[0.167,-11,3.91,-7.09,99.2,96.9,108,0.464,0.499,14.6,22.6,0.176,0.559,0.592,16.2,18.7,0.182\n",
    "                  ]])\n",
    "DET_scaled = DET_scaler.transform([[0.167,-11,3.91,-7.09,99.2,96.9,108,0.464,0.499,14.6,22.6,0.176,0.559,0.592,16.2,18.7,0.182\n",
    "                  ]])\n",
    "rf_model.predict(DET_scaled)"
   ]
  },
  {
   "cell_type": "code",
   "execution_count": 31,
   "id": "7232c9af",
   "metadata": {},
   "outputs": [
    {
     "data": {
      "text/plain": [
       "array([0], dtype=int64)"
      ]
     },
     "execution_count": 31,
     "metadata": {},
     "output_type": "execute_result"
    }
   ],
   "source": [
    "# Predict DEN stats from cy_stats.csv\n",
    "DEN_scaler = scaler.fit([[0.571,2.57,-1.72,0.85,99.1,101.6,99,0.536,0.551,16.3,18.5,0.109,0.493,0.524,15,21.4,0.156\n",
    "                  ]])\n",
    "DEN_scaled = DEN_scaler.transform([[0.571,2.57,-1.72,0.85,99.1,101.6,99,0.536,0.551,16.3,18.5,0.109,0.493,0.524,15,21.4,0.156\n",
    "                  ]])\n",
    "rf_model.predict(DEN_scaled)"
   ]
  },
  {
   "cell_type": "code",
   "execution_count": 32,
   "id": "62248ed4",
   "metadata": {},
   "outputs": [
    {
     "data": {
      "text/plain": [
       "array([0], dtype=int64)"
      ]
     },
     "execution_count": 32,
     "metadata": {},
     "output_type": "execute_result"
    }
   ],
   "source": [
    "# Predict DAL stats from cy_stats.csv\n",
    "DAL_scaler = scaler.fit([[0.667,-4.67,-1.66,-6.32,98.6,99.7,104.5,0.477,0.504,11.6,20.1,0.152,0.509,0.534,13.5,22.2,0.143\n",
    "                  ]])\n",
    "DAL_scaled = DAL_scaler.transform([[0.667,-4.67,-1.66,-6.32,98.6,99.7,104.5,0.477,0.504,11.6,20.1,0.152,0.509,0.534,13.5,22.2,0.143\n",
    "                  ]])\n",
    "rf_model.predict(DAL_scaled)"
   ]
  },
  {
   "cell_type": "code",
   "execution_count": 33,
   "id": "9b5fc66f",
   "metadata": {},
   "outputs": [
    {
     "data": {
      "text/plain": [
       "array([0], dtype=int64)"
      ]
     },
     "execution_count": 33,
     "metadata": {},
     "output_type": "execute_result"
    }
   ],
   "source": [
    "# Predict CLE stats from cy_stats.csv\n",
    "CLE_scaler = scaler.fit([[0.5,-1.13,-0.62,-1.75,99,104.9,106.1,0.499,0.536,14.1,25.4,0.195,0.513,0.534,14.1,27.2,0.12\n",
    "                  ]])\n",
    "CLE_scaled = CLE_scaler.transform([[0.5,-1.13,-0.62,-1.75,99,104.9,106.1,0.499,0.536,14.1,25.4,0.195,0.513,0.534,14.1,27.2,0.12\n",
    "                  ]])\n",
    "rf_model.predict(CLE_scaled)"
   ]
  },
  {
   "cell_type": "code",
   "execution_count": 34,
   "id": "e283450b",
   "metadata": {},
   "outputs": [
    {
     "data": {
      "text/plain": [
       "array([0], dtype=int64)"
      ]
     },
     "execution_count": 34,
     "metadata": {},
     "output_type": "execute_result"
    }
   ],
   "source": [
    "# Predict CHO stats from cy_stats.csv\n",
    "CHO_scaler = scaler.fit([[0.625,2.5,1.92,4.42,100.9,114.9,112.5,0.537,0.563,11.3,26,0.165,0.54,0.576,14,25.9,0.184\n",
    "                  ]])\n",
    "CHO_scaled = CHO_scaler.transform([[0.625,2.5,1.92,4.42,100.9,114.9,112.5,0.537,0.563,11.3,26,0.165,0.54,0.576,14,25.9,0.184\n",
    "                  ]])\n",
    "rf_model.predict(CHO_scaled)"
   ]
  },
  {
   "cell_type": "code",
   "execution_count": 35,
   "id": "b0833ebb",
   "metadata": {},
   "outputs": [
    {
     "data": {
      "text/plain": [
       "array([0], dtype=int64)"
      ]
     },
     "execution_count": 35,
     "metadata": {},
     "output_type": "execute_result"
    }
   ],
   "source": [
    "# Predict CHI stats from cy_stats.csv\n",
    "CHI_scaler = scaler.fit([[0.857,8.71,-0.23,8.49,99.2,110.6,101.8,0.53,0.575,12,17.3,0.218,0.492,0.524,15.1,25.1,0.155\n",
    "                  ]])\n",
    "CHI_scaled = CHI_scaler.transform([[0.857,8.71,-0.23,8.49,99.2,110.6,101.8,0.53,0.575,12,17.3,0.218,0.492,0.524,15.1,25.1,0.155\n",
    "                  ]])\n",
    "rf_model.predict(CHI_scaled)"
   ]
  },
  {
   "cell_type": "code",
   "execution_count": 36,
   "id": "27205a78",
   "metadata": {},
   "outputs": [
    {
     "data": {
      "text/plain": [
       "array([0], dtype=int64)"
      ]
     },
     "execution_count": 36,
     "metadata": {},
     "output_type": "execute_result"
    }
   ],
   "source": [
    "# Predict BRK stats from cy_stats.csv\n",
    "BRK_scaler = scaler.fit([[0.571,0,4.13,4.13,100.5,104.1,104.1,0.53,0.562,14,15.9,0.189,0.479,0.512,10.7,21,0.162\n",
    "                  ]])\n",
    "BRK_scaled = BRK_scaler.transform([[0.571,0,4.13,4.13,100.5,104.1,104.1,0.53,0.562,14,15.9,0.189,0.479,0.512,10.7,21,0.162\n",
    "                  ]])\n",
    "rf_model.predict(BRK_scaled)"
   ]
  },
  {
   "cell_type": "code",
   "execution_count": 37,
   "id": "08b8cd12",
   "metadata": {},
   "outputs": [
    {
     "data": {
      "text/plain": [
       "array([0], dtype=int64)"
      ]
     },
     "execution_count": 37,
     "metadata": {},
     "output_type": "execute_result"
    }
   ],
   "source": [
    "# Predict BOS stats from cy_stats.csv\n",
    "BOS_scaler = scaler.fit([[0.286,-5.86,2.91,-2.95,99.9,106.1,111.6,0.501,0.538,12,20.3,0.181,0.528,0.568,13.2,24.2,0.219\n",
    "                  ]])\n",
    "BOS_scaled = BOS_scaler.transform([[0.286,-5.86,2.91,-2.95,99.9,106.1,111.6,0.501,0.538,12,20.3,0.181,0.528,0.568,13.2,24.2,0.219\n",
    "                  ]])\n",
    "rf_model.predict(BOS_scaled)"
   ]
  },
  {
   "cell_type": "markdown",
   "id": "8f9a8ce1",
   "metadata": {},
   "source": [
    "# Import New data set"
   ]
  },
  {
   "cell_type": "code",
   "execution_count": null,
   "id": "8a5b3af0",
   "metadata": {},
   "outputs": [],
   "source": [
    "# Import our current year dataset\n",
    "# cy_df = pd.read_csv('cy_stats.csv')\n",
    "# cy_df.head()"
   ]
  },
  {
   "cell_type": "code",
   "execution_count": null,
   "id": "a7762f9f",
   "metadata": {},
   "outputs": [],
   "source": [
    "# Pull out Season, TM into DF\n",
    "# cy_name_df = cy_df[['Season', 'Tm']]\n",
    "# cy_name_df.head()"
   ]
  },
  {
   "cell_type": "code",
   "execution_count": null,
   "id": "d3ea73ef",
   "metadata": {},
   "outputs": [],
   "source": [
    "# Drop LG, Season, and TM column\n",
    "# cy_df.drop(['Lg','Season','Tm'], axis=1, inplace=True)"
   ]
  },
  {
   "cell_type": "code",
   "execution_count": null,
   "id": "20125d6b",
   "metadata": {},
   "outputs": [],
   "source": [
    "# Drop G, W, and L column\n",
    "# cy_df.drop(['G','W','L'], axis=1, inplace=True)"
   ]
  },
  {
   "cell_type": "code",
   "execution_count": null,
   "id": "07aceb82",
   "metadata": {},
   "outputs": [],
   "source": [
    "# cy_df.head()"
   ]
  },
  {
   "cell_type": "code",
   "execution_count": null,
   "id": "2e95f6ae",
   "metadata": {},
   "outputs": [],
   "source": [
    "# Remove Position target from features data\n",
    "# y = cy_df.Position\n",
    "# X = cy_df.drop(columns=[\"Position\"])\n",
    "\n",
    "# # Split training/test datasets\n",
    "# X_train, X_test, y_train, y_test = train_test_split(X, y, random_state=1, stratify=y)\n",
    "\n",
    "# # Create a StandardScaler instance\n",
    "# scaler = StandardScaler()\n",
    "\n",
    "# # Fit the StandardScaler\n",
    "# X_scaler = scaler.fit(X_train)\n",
    "\n",
    "# # Scale the data\n",
    "# X_train_scaled = X_scaler.transform(X_train)\n",
    "# X_test_scaled = X_scaler.transform(X_test)"
   ]
  },
  {
   "cell_type": "code",
   "execution_count": null,
   "id": "4e9a4da9",
   "metadata": {},
   "outputs": [],
   "source": [
    "# Create a random forest classifier.\n",
    "# rf_model = RandomForestClassifier(n_estimators=128, random_state=78)\n",
    "\n",
    "# # Fitting the model\n",
    "# rf_model = rf_model.fit(X_train_scaled, y_train)\n",
    "\n",
    "# # Evaluate the model\n",
    "# y_pred = rf_model.predict(X_test_scaled)\n",
    "# print(f\" Random forest predictive accuracy: {accuracy_score(y_test,y_pred):.3f}\")"
   ]
  },
  {
   "cell_type": "code",
   "execution_count": null,
   "id": "38c5789f",
   "metadata": {},
   "outputs": [],
   "source": []
  },
  {
   "cell_type": "code",
   "execution_count": null,
   "id": "e3f99712",
   "metadata": {},
   "outputs": [],
   "source": []
  }
 ],
 "metadata": {
  "kernelspec": {
   "display_name": "mlenv",
   "language": "python",
   "name": "mlenv"
  },
  "language_info": {
   "codemirror_mode": {
    "name": "ipython",
    "version": 3
   },
   "file_extension": ".py",
   "mimetype": "text/x-python",
   "name": "python",
   "nbconvert_exporter": "python",
   "pygments_lexer": "ipython3",
   "version": "3.8.12"
  }
 },
 "nbformat": 4,
 "nbformat_minor": 5
}
