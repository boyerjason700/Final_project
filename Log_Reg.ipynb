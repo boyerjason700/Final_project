{
 "cells": [
  {
   "cell_type": "code",
   "execution_count": 1,
   "id": "7493c7eb",
   "metadata": {},
   "outputs": [
    {
     "data": {
      "text/html": [
       "<div>\n",
       "<style scoped>\n",
       "    .dataframe tbody tr th:only-of-type {\n",
       "        vertical-align: middle;\n",
       "    }\n",
       "\n",
       "    .dataframe tbody tr th {\n",
       "        vertical-align: top;\n",
       "    }\n",
       "\n",
       "    .dataframe thead th {\n",
       "        text-align: right;\n",
       "    }\n",
       "</style>\n",
       "<table border=\"1\" class=\"dataframe\">\n",
       "  <thead>\n",
       "    <tr style=\"text-align: right;\">\n",
       "      <th></th>\n",
       "      <th>Position</th>\n",
       "      <th>Season</th>\n",
       "      <th>Tm</th>\n",
       "      <th>Team_Name</th>\n",
       "      <th>Lg</th>\n",
       "      <th>G</th>\n",
       "      <th>W</th>\n",
       "      <th>L</th>\n",
       "      <th>W/L%</th>\n",
       "      <th>MOV</th>\n",
       "      <th>...</th>\n",
       "      <th>eFG%</th>\n",
       "      <th>TS%</th>\n",
       "      <th>TOV%</th>\n",
       "      <th>ORB%</th>\n",
       "      <th>FT/FGA</th>\n",
       "      <th>opp_eFG%</th>\n",
       "      <th>opp_TS%</th>\n",
       "      <th>opp_TOV%</th>\n",
       "      <th>opp_ORB%</th>\n",
       "      <th>opp_FT/FGA</th>\n",
       "    </tr>\n",
       "  </thead>\n",
       "  <tbody>\n",
       "    <tr>\n",
       "      <th>0</th>\n",
       "      <td>0</td>\n",
       "      <td>2020-21</td>\n",
       "      <td>WAS</td>\n",
       "      <td>Washington Wizards</td>\n",
       "      <td>NBA</td>\n",
       "      <td>72</td>\n",
       "      <td>34</td>\n",
       "      <td>38</td>\n",
       "      <td>0.472</td>\n",
       "      <td>-1.83</td>\n",
       "      <td>...</td>\n",
       "      <td>0.531</td>\n",
       "      <td>0.569</td>\n",
       "      <td>12.3</td>\n",
       "      <td>21.3</td>\n",
       "      <td>0.221</td>\n",
       "      <td>0.539</td>\n",
       "      <td>0.576</td>\n",
       "      <td>12.5</td>\n",
       "      <td>22.4</td>\n",
       "      <td>0.217</td>\n",
       "    </tr>\n",
       "    <tr>\n",
       "      <th>1</th>\n",
       "      <td>0</td>\n",
       "      <td>2020-21</td>\n",
       "      <td>UTA</td>\n",
       "      <td>Utah Jazz</td>\n",
       "      <td>NBA</td>\n",
       "      <td>72</td>\n",
       "      <td>52</td>\n",
       "      <td>20</td>\n",
       "      <td>0.722</td>\n",
       "      <td>9.25</td>\n",
       "      <td>...</td>\n",
       "      <td>0.563</td>\n",
       "      <td>0.597</td>\n",
       "      <td>12.7</td>\n",
       "      <td>24.5</td>\n",
       "      <td>0.195</td>\n",
       "      <td>0.507</td>\n",
       "      <td>0.537</td>\n",
       "      <td>10.3</td>\n",
       "      <td>20.7</td>\n",
       "      <td>0.159</td>\n",
       "    </tr>\n",
       "    <tr>\n",
       "      <th>2</th>\n",
       "      <td>0</td>\n",
       "      <td>2020-21</td>\n",
       "      <td>TOR</td>\n",
       "      <td>Toronto Raptors</td>\n",
       "      <td>NBA</td>\n",
       "      <td>72</td>\n",
       "      <td>27</td>\n",
       "      <td>45</td>\n",
       "      <td>0.375</td>\n",
       "      <td>-0.47</td>\n",
       "      <td>...</td>\n",
       "      <td>0.529</td>\n",
       "      <td>0.567</td>\n",
       "      <td>11.9</td>\n",
       "      <td>20.8</td>\n",
       "      <td>0.196</td>\n",
       "      <td>0.543</td>\n",
       "      <td>0.584</td>\n",
       "      <td>14.4</td>\n",
       "      <td>23.7</td>\n",
       "      <td>0.234</td>\n",
       "    </tr>\n",
       "    <tr>\n",
       "      <th>3</th>\n",
       "      <td>0</td>\n",
       "      <td>2020-21</td>\n",
       "      <td>SAS</td>\n",
       "      <td>San Antonio Spurs</td>\n",
       "      <td>NBA</td>\n",
       "      <td>72</td>\n",
       "      <td>33</td>\n",
       "      <td>39</td>\n",
       "      <td>0.458</td>\n",
       "      <td>-1.74</td>\n",
       "      <td>...</td>\n",
       "      <td>0.517</td>\n",
       "      <td>0.554</td>\n",
       "      <td>10.2</td>\n",
       "      <td>20.0</td>\n",
       "      <td>0.192</td>\n",
       "      <td>0.541</td>\n",
       "      <td>0.570</td>\n",
       "      <td>11.8</td>\n",
       "      <td>22.7</td>\n",
       "      <td>0.174</td>\n",
       "    </tr>\n",
       "    <tr>\n",
       "      <th>4</th>\n",
       "      <td>0</td>\n",
       "      <td>2020-21</td>\n",
       "      <td>SAC</td>\n",
       "      <td>Sacramento Kings</td>\n",
       "      <td>NBA</td>\n",
       "      <td>72</td>\n",
       "      <td>31</td>\n",
       "      <td>41</td>\n",
       "      <td>0.431</td>\n",
       "      <td>-3.68</td>\n",
       "      <td>...</td>\n",
       "      <td>0.549</td>\n",
       "      <td>0.578</td>\n",
       "      <td>12.0</td>\n",
       "      <td>21.3</td>\n",
       "      <td>0.185</td>\n",
       "      <td>0.557</td>\n",
       "      <td>0.591</td>\n",
       "      <td>12.1</td>\n",
       "      <td>25.0</td>\n",
       "      <td>0.199</td>\n",
       "    </tr>\n",
       "  </tbody>\n",
       "</table>\n",
       "<p>5 rows × 25 columns</p>\n",
       "</div>"
      ],
      "text/plain": [
       "   Position   Season   Tm           Team_Name   Lg   G   W   L   W/L%   MOV  \\\n",
       "0         0  2020-21  WAS  Washington Wizards  NBA  72  34  38  0.472 -1.83   \n",
       "1         0  2020-21  UTA           Utah Jazz  NBA  72  52  20  0.722  9.25   \n",
       "2         0  2020-21  TOR     Toronto Raptors  NBA  72  27  45  0.375 -0.47   \n",
       "3         0  2020-21  SAS   San Antonio Spurs  NBA  72  33  39  0.458 -1.74   \n",
       "4         0  2020-21  SAC    Sacramento Kings  NBA  72  31  41  0.431 -3.68   \n",
       "\n",
       "   ...   eFG%    TS%  TOV%  ORB%  FT/FGA  opp_eFG%  opp_TS%  opp_TOV%  \\\n",
       "0  ...  0.531  0.569  12.3  21.3   0.221     0.539    0.576      12.5   \n",
       "1  ...  0.563  0.597  12.7  24.5   0.195     0.507    0.537      10.3   \n",
       "2  ...  0.529  0.567  11.9  20.8   0.196     0.543    0.584      14.4   \n",
       "3  ...  0.517  0.554  10.2  20.0   0.192     0.541    0.570      11.8   \n",
       "4  ...  0.549  0.578  12.0  21.3   0.185     0.557    0.591      12.1   \n",
       "\n",
       "   opp_ORB%  opp_FT/FGA  \n",
       "0      22.4       0.217  \n",
       "1      20.7       0.159  \n",
       "2      23.7       0.234  \n",
       "3      22.7       0.174  \n",
       "4      25.0       0.199  \n",
       "\n",
       "[5 rows x 25 columns]"
      ]
     },
     "execution_count": 1,
     "metadata": {},
     "output_type": "execute_result"
    }
   ],
   "source": [
    "import pandas as pd\n",
    "from sklearn.model_selection import train_test_split\n",
    "from sklearn.linear_model import LogisticRegression\n",
    "from sklearn.preprocessing import StandardScaler\n",
    "# Import our input dataset\n",
    "stats_df = pd.read_csv('stats_target_clean2.csv')\n",
    "stats_df.head()"
   ]
  },
  {
   "cell_type": "markdown",
   "id": "dd454998",
   "metadata": {},
   "source": [
    "Definition of Stats: \n",
    "\n",
    "    1. Position -- 1 = winner, 0 = not winner --- TARGET\n",
    "    2. Season -- Season --- Save for reference\n",
    "    3. TM -- Team name abreviation --- Save for reference\n",
    "    4. Team_Name -- Name --- Save for reference\n",
    "    5. Lg -- League --- Not needed\n",
    "    6. G -- Games --- Not needed\n",
    "    7. W -- Wins --- Not needed\n",
    "    8. L -- Losses --- Not needed\n",
    "    9. W/L% -- Win-Loss Percentage Miscellaneous --- Needed\n",
    "    10. MOV -- Margin of Victory --- Needed\n",
    "    11. SOS -- Strength of Schedule; a rating of strength of schedule. The rating is denominated in points above/below average, where zero is average. --- Needed\n",
    "    12. SRS -- Simple Rating System; a team rating that takes into account average point differential and strength of schedule. The rating is denominated in points above/below average, where zero is average. --- Needed\n",
    "    13. Pace -- Pace Factor: An estimate of possessions per 48 minutes --- Needed\n",
    "    14. ORtg -- Offensive Rating An estimate of points produced (players) or scored (teams) per 100 possessions --- Needed\n",
    "    15. DRtg -- Defensive Rating An estimate of points allowed per 100 possessions Team eFG% Effective Field Goal Percentage This statistic adjusts for the fact that a 3-point field goal is worth one more point than a 2-point field goal. --- Needed\n",
    "    16. TS% -- True Shooting Percentage A measure of shooting efficiency that takes into account 2-point field goals, 3-point field goals, and free throws. --- Needed\n",
    "    17. TOV% -- Turnover Percentage An estimate of turnovers committed per 100 plays. \n",
    "    18. ORB% -- Offensive Rebound Percentage An estimate of the percentage of available offensive rebounds a player grabbed while they were on the floor. --- Needed\n",
    "    19. FT/FGA -- Free Throws Per Field Goal Attempt Opponent --- Needed\n",
    "    20. eFG% -- Opponent Effective Field Goal Percentage --- Needed\n",
    "    21. TS% -- Opponent True Shooting Percentage --- Needed\n",
    "    22. TOV% -- Opponent Turnover Percentage --- Needed\n",
    "    23. ORB% -- Opponent Offensive Rebound Percentage --- Needed\n",
    "    24. FT/FGA -- Opponent Free Throws Per Field Goal Attempt--- Needed"
   ]
  },
  {
   "cell_type": "code",
   "execution_count": 2,
   "id": "4640abce",
   "metadata": {},
   "outputs": [
    {
     "data": {
      "text/html": [
       "<div>\n",
       "<style scoped>\n",
       "    .dataframe tbody tr th:only-of-type {\n",
       "        vertical-align: middle;\n",
       "    }\n",
       "\n",
       "    .dataframe tbody tr th {\n",
       "        vertical-align: top;\n",
       "    }\n",
       "\n",
       "    .dataframe thead th {\n",
       "        text-align: right;\n",
       "    }\n",
       "</style>\n",
       "<table border=\"1\" class=\"dataframe\">\n",
       "  <thead>\n",
       "    <tr style=\"text-align: right;\">\n",
       "      <th></th>\n",
       "      <th>Season</th>\n",
       "      <th>Tm</th>\n",
       "      <th>Team_Name</th>\n",
       "    </tr>\n",
       "  </thead>\n",
       "  <tbody>\n",
       "    <tr>\n",
       "      <th>0</th>\n",
       "      <td>2020-21</td>\n",
       "      <td>WAS</td>\n",
       "      <td>Washington Wizards</td>\n",
       "    </tr>\n",
       "    <tr>\n",
       "      <th>1</th>\n",
       "      <td>2020-21</td>\n",
       "      <td>UTA</td>\n",
       "      <td>Utah Jazz</td>\n",
       "    </tr>\n",
       "    <tr>\n",
       "      <th>2</th>\n",
       "      <td>2020-21</td>\n",
       "      <td>TOR</td>\n",
       "      <td>Toronto Raptors</td>\n",
       "    </tr>\n",
       "    <tr>\n",
       "      <th>3</th>\n",
       "      <td>2020-21</td>\n",
       "      <td>SAS</td>\n",
       "      <td>San Antonio Spurs</td>\n",
       "    </tr>\n",
       "    <tr>\n",
       "      <th>4</th>\n",
       "      <td>2020-21</td>\n",
       "      <td>SAC</td>\n",
       "      <td>Sacramento Kings</td>\n",
       "    </tr>\n",
       "  </tbody>\n",
       "</table>\n",
       "</div>"
      ],
      "text/plain": [
       "    Season   Tm           Team_Name\n",
       "0  2020-21  WAS  Washington Wizards\n",
       "1  2020-21  UTA           Utah Jazz\n",
       "2  2020-21  TOR     Toronto Raptors\n",
       "3  2020-21  SAS   San Antonio Spurs\n",
       "4  2020-21  SAC    Sacramento Kings"
      ]
     },
     "execution_count": 2,
     "metadata": {},
     "output_type": "execute_result"
    }
   ],
   "source": [
    "# Pull out Season, TM and Team_Name into DF\n",
    "name_df = stats_df[['Season', 'Tm', 'Team_Name']]\n",
    "name_df.head()"
   ]
  },
  {
   "cell_type": "code",
   "execution_count": 3,
   "id": "04509243",
   "metadata": {},
   "outputs": [],
   "source": [
    "# Drop LG, Season, TM, Team_Name, G, W, L columns\n",
    "stats_df.drop(['Lg','Season','Tm', 'Team_Name', 'G', 'W', 'L'], axis=1, inplace=True)"
   ]
  },
  {
   "cell_type": "code",
   "execution_count": 4,
   "id": "ffb70106",
   "metadata": {},
   "outputs": [
    {
     "data": {
      "text/html": [
       "<div>\n",
       "<style scoped>\n",
       "    .dataframe tbody tr th:only-of-type {\n",
       "        vertical-align: middle;\n",
       "    }\n",
       "\n",
       "    .dataframe tbody tr th {\n",
       "        vertical-align: top;\n",
       "    }\n",
       "\n",
       "    .dataframe thead th {\n",
       "        text-align: right;\n",
       "    }\n",
       "</style>\n",
       "<table border=\"1\" class=\"dataframe\">\n",
       "  <thead>\n",
       "    <tr style=\"text-align: right;\">\n",
       "      <th></th>\n",
       "      <th>Position</th>\n",
       "      <th>W/L%</th>\n",
       "      <th>MOV</th>\n",
       "      <th>SOS</th>\n",
       "      <th>SRS</th>\n",
       "      <th>Pace</th>\n",
       "      <th>ORtg</th>\n",
       "      <th>DRtg</th>\n",
       "      <th>eFG%</th>\n",
       "      <th>TS%</th>\n",
       "      <th>TOV%</th>\n",
       "      <th>ORB%</th>\n",
       "      <th>FT/FGA</th>\n",
       "      <th>opp_eFG%</th>\n",
       "      <th>opp_TS%</th>\n",
       "      <th>opp_TOV%</th>\n",
       "      <th>opp_ORB%</th>\n",
       "      <th>opp_FT/FGA</th>\n",
       "    </tr>\n",
       "  </thead>\n",
       "  <tbody>\n",
       "    <tr>\n",
       "      <th>0</th>\n",
       "      <td>0</td>\n",
       "      <td>0.472</td>\n",
       "      <td>-1.83</td>\n",
       "      <td>-0.01</td>\n",
       "      <td>-1.85</td>\n",
       "      <td>104.1</td>\n",
       "      <td>111.2</td>\n",
       "      <td>113.0</td>\n",
       "      <td>0.531</td>\n",
       "      <td>0.569</td>\n",
       "      <td>12.3</td>\n",
       "      <td>21.3</td>\n",
       "      <td>0.221</td>\n",
       "      <td>0.539</td>\n",
       "      <td>0.576</td>\n",
       "      <td>12.5</td>\n",
       "      <td>22.4</td>\n",
       "      <td>0.217</td>\n",
       "    </tr>\n",
       "    <tr>\n",
       "      <th>1</th>\n",
       "      <td>0</td>\n",
       "      <td>0.722</td>\n",
       "      <td>9.25</td>\n",
       "      <td>-0.29</td>\n",
       "      <td>8.97</td>\n",
       "      <td>98.5</td>\n",
       "      <td>117.6</td>\n",
       "      <td>108.3</td>\n",
       "      <td>0.563</td>\n",
       "      <td>0.597</td>\n",
       "      <td>12.7</td>\n",
       "      <td>24.5</td>\n",
       "      <td>0.195</td>\n",
       "      <td>0.507</td>\n",
       "      <td>0.537</td>\n",
       "      <td>10.3</td>\n",
       "      <td>20.7</td>\n",
       "      <td>0.159</td>\n",
       "    </tr>\n",
       "    <tr>\n",
       "      <th>2</th>\n",
       "      <td>0</td>\n",
       "      <td>0.375</td>\n",
       "      <td>-0.47</td>\n",
       "      <td>-0.07</td>\n",
       "      <td>-0.54</td>\n",
       "      <td>99.2</td>\n",
       "      <td>112.0</td>\n",
       "      <td>112.5</td>\n",
       "      <td>0.529</td>\n",
       "      <td>0.567</td>\n",
       "      <td>11.9</td>\n",
       "      <td>20.8</td>\n",
       "      <td>0.196</td>\n",
       "      <td>0.543</td>\n",
       "      <td>0.584</td>\n",
       "      <td>14.4</td>\n",
       "      <td>23.7</td>\n",
       "      <td>0.234</td>\n",
       "    </tr>\n",
       "    <tr>\n",
       "      <th>3</th>\n",
       "      <td>0</td>\n",
       "      <td>0.458</td>\n",
       "      <td>-1.74</td>\n",
       "      <td>0.15</td>\n",
       "      <td>-1.58</td>\n",
       "      <td>98.9</td>\n",
       "      <td>111.0</td>\n",
       "      <td>112.8</td>\n",
       "      <td>0.517</td>\n",
       "      <td>0.554</td>\n",
       "      <td>10.2</td>\n",
       "      <td>20.0</td>\n",
       "      <td>0.192</td>\n",
       "      <td>0.541</td>\n",
       "      <td>0.570</td>\n",
       "      <td>11.8</td>\n",
       "      <td>22.7</td>\n",
       "      <td>0.174</td>\n",
       "    </tr>\n",
       "    <tr>\n",
       "      <th>4</th>\n",
       "      <td>0</td>\n",
       "      <td>0.431</td>\n",
       "      <td>-3.68</td>\n",
       "      <td>0.23</td>\n",
       "      <td>-3.45</td>\n",
       "      <td>100.0</td>\n",
       "      <td>113.6</td>\n",
       "      <td>117.2</td>\n",
       "      <td>0.549</td>\n",
       "      <td>0.578</td>\n",
       "      <td>12.0</td>\n",
       "      <td>21.3</td>\n",
       "      <td>0.185</td>\n",
       "      <td>0.557</td>\n",
       "      <td>0.591</td>\n",
       "      <td>12.1</td>\n",
       "      <td>25.0</td>\n",
       "      <td>0.199</td>\n",
       "    </tr>\n",
       "  </tbody>\n",
       "</table>\n",
       "</div>"
      ],
      "text/plain": [
       "   Position   W/L%   MOV   SOS   SRS   Pace   ORtg   DRtg   eFG%    TS%  TOV%  \\\n",
       "0         0  0.472 -1.83 -0.01 -1.85  104.1  111.2  113.0  0.531  0.569  12.3   \n",
       "1         0  0.722  9.25 -0.29  8.97   98.5  117.6  108.3  0.563  0.597  12.7   \n",
       "2         0  0.375 -0.47 -0.07 -0.54   99.2  112.0  112.5  0.529  0.567  11.9   \n",
       "3         0  0.458 -1.74  0.15 -1.58   98.9  111.0  112.8  0.517  0.554  10.2   \n",
       "4         0  0.431 -3.68  0.23 -3.45  100.0  113.6  117.2  0.549  0.578  12.0   \n",
       "\n",
       "   ORB%  FT/FGA  opp_eFG%  opp_TS%  opp_TOV%  opp_ORB%  opp_FT/FGA  \n",
       "0  21.3   0.221     0.539    0.576      12.5      22.4       0.217  \n",
       "1  24.5   0.195     0.507    0.537      10.3      20.7       0.159  \n",
       "2  20.8   0.196     0.543    0.584      14.4      23.7       0.234  \n",
       "3  20.0   0.192     0.541    0.570      11.8      22.7       0.174  \n",
       "4  21.3   0.185     0.557    0.591      12.1      25.0       0.199  "
      ]
     },
     "execution_count": 4,
     "metadata": {},
     "output_type": "execute_result"
    }
   ],
   "source": [
    "stats_df.head()"
   ]
  },
  {
   "cell_type": "code",
   "execution_count": 5,
   "id": "9515740c",
   "metadata": {},
   "outputs": [],
   "source": [
    "# Remove Position target from features data\n",
    "y = stats_df.Position\n",
    "X = stats_df.drop(columns=[\"Position\"])\n",
    "\n",
    "# Split training/test datasets\n",
    "X_train, X_test, y_train, y_test = train_test_split(X, y, random_state=1, stratify=y)\n",
    "\n",
    "# Create a StandardScaler instance\n",
    "scaler = StandardScaler()\n",
    "\n",
    "# Fit the StandardScaler\n",
    "X_scaler = scaler.fit(X_train)\n",
    "\n",
    "# Scale the data\n",
    "X_train_scaled = X_scaler.transform(X_train)\n",
    "X_test_scaled = X_scaler.transform(X_test)"
   ]
  },
  {
   "cell_type": "code",
   "execution_count": 6,
   "id": "5ccdd5e5",
   "metadata": {},
   "outputs": [
    {
     "data": {
      "text/plain": [
       "LogisticRegression(max_iter=1000)"
      ]
     },
     "execution_count": 6,
     "metadata": {},
     "output_type": "execute_result"
    }
   ],
   "source": [
    "# Create a logistic regression model\n",
    "classifier = LogisticRegression(max_iter=1000)\n",
    "classifier"
   ]
  },
  {
   "cell_type": "code",
   "execution_count": 7,
   "id": "16ebe388",
   "metadata": {},
   "outputs": [
    {
     "data": {
      "text/plain": [
       "LogisticRegression(max_iter=1000)"
      ]
     },
     "execution_count": 7,
     "metadata": {},
     "output_type": "execute_result"
    }
   ],
   "source": [
    "# Fit (train) our model by using the training data\n",
    "classifier.fit(X_train, y_train)"
   ]
  },
  {
   "cell_type": "code",
   "execution_count": 8,
   "id": "21fdd9c7",
   "metadata": {},
   "outputs": [
    {
     "name": "stdout",
     "output_type": "stream",
     "text": [
      "Training Data Score: 0.9685264663805436\n",
      "Testing Data Score: 0.9743589743589743\n"
     ]
    }
   ],
   "source": [
    "# Validate the model by using the test data\n",
    "print(f\"Training Data Score: {classifier.score(X_train, y_train)}\")\n",
    "print(f\"Testing Data Score: {classifier.score(X_test, y_test)}\")"
   ]
  },
  {
   "cell_type": "code",
   "execution_count": null,
   "id": "e816814d",
   "metadata": {},
   "outputs": [],
   "source": []
  },
  {
   "cell_type": "markdown",
   "id": "e17fd0e9",
   "metadata": {},
   "source": [
    "## Import new data set"
   ]
  },
  {
   "cell_type": "code",
   "execution_count": null,
   "id": "f7cf5325",
   "metadata": {},
   "outputs": [],
   "source": [
    "# Import our current year dataset\n",
    "cy_df = pd.read_csv('cy_stats.csv')\n",
    "cy_df.head()"
   ]
  },
  {
   "cell_type": "code",
   "execution_count": null,
   "id": "9d3679a0",
   "metadata": {},
   "outputs": [],
   "source": [
    "# Pull out Season, TM into DF\n",
    "cy_name_df = cy_df[['Season', 'Tm']]\n",
    "cy_name_df.head()"
   ]
  },
  {
   "cell_type": "code",
   "execution_count": null,
   "id": "6bf6094c",
   "metadata": {},
   "outputs": [],
   "source": [
    "# Drop LG, Season, and TM column\n",
    "cy_df.drop(['Lg','Season','Tm'], axis=1, inplace=True)"
   ]
  },
  {
   "cell_type": "code",
   "execution_count": null,
   "id": "3dffa816",
   "metadata": {},
   "outputs": [],
   "source": [
    "cy_df.head()"
   ]
  },
  {
   "cell_type": "code",
   "execution_count": null,
   "id": "e96dffa4",
   "metadata": {},
   "outputs": [],
   "source": [
    "# Remove Position target from features data\n",
    "y1 = cy_df.Position\n",
    "X1 = cy_df.drop(columns=[\"Position\"])"
   ]
  },
  {
   "cell_type": "code",
   "execution_count": null,
   "id": "5d6db07a",
   "metadata": {},
   "outputs": [],
   "source": [
    "X1.head()"
   ]
  },
  {
   "cell_type": "code",
   "execution_count": null,
   "id": "3308913e",
   "metadata": {},
   "outputs": [],
   "source": [
    "y1"
   ]
  },
  {
   "cell_type": "code",
   "execution_count": null,
   "id": "2141bfc8",
   "metadata": {},
   "outputs": [],
   "source": [
    "# Split training/test datasets\n",
    "X1_train, X1_test, y1_train, y1_test = train_test_split(X1, y1, random_state=1)\n",
    "\n",
    "# Create a StandardScaler instance\n",
    "scaler = StandardScaler()\n",
    "\n",
    "# Fit the StandardScaler\n",
    "X1_scaler = scaler.fit(X1_train)\n",
    "\n",
    "# Scale the data\n",
    "X1_train_scaled = X1_scaler.transform(X1_train)\n",
    "X1_test_scaled = X1_scaler.transform(X1_test)"
   ]
  },
  {
   "cell_type": "code",
   "execution_count": null,
   "id": "7f79559f",
   "metadata": {},
   "outputs": [],
   "source": [
    "# Create a logistic regression model\n",
    "classifier = LogisticRegression(max_iter=1000)\n",
    "classifier"
   ]
  },
  {
   "cell_type": "code",
   "execution_count": null,
   "id": "a8d799c9",
   "metadata": {},
   "outputs": [],
   "source": [
    "# Fit (train) our model by using the training data\n",
    "classifier.fit(X1_train, y1_train)"
   ]
  },
  {
   "cell_type": "code",
   "execution_count": null,
   "id": "23b961ea",
   "metadata": {},
   "outputs": [],
   "source": []
  },
  {
   "cell_type": "code",
   "execution_count": null,
   "id": "8731cc4b",
   "metadata": {},
   "outputs": [],
   "source": []
  },
  {
   "cell_type": "code",
   "execution_count": null,
   "id": "5d60cb46",
   "metadata": {},
   "outputs": [],
   "source": [
    "# joined_df = test_df.join(stats_df)\n",
    "# joined_df.head(100)"
   ]
  },
  {
   "cell_type": "code",
   "execution_count": null,
   "id": "7dc15b42",
   "metadata": {},
   "outputs": [],
   "source": [
    "# full_df = joined_df.join(name_df)\n",
    "# full_df.head()"
   ]
  },
  {
   "cell_type": "code",
   "execution_count": null,
   "id": "251feb36",
   "metadata": {},
   "outputs": [],
   "source": [
    "# full_df.columns"
   ]
  },
  {
   "cell_type": "code",
   "execution_count": null,
   "id": "a7b37aff",
   "metadata": {},
   "outputs": [],
   "source": [
    "# full2_df = full_df[['Season',\n",
    "#        'Tm', 'Team_Name','Prediction', 'Actual', 'Position', 'G', 'W', 'L', 'W/L%', 'MOV', 'SOS',\n",
    "#        'SRS', 'Pace', 'ORtg', 'DRtg', 'eFG%', 'TS%', 'TOV%', 'ORB%', 'FT/FGA',\n",
    "#        'opp_eFG%', 'opp_TS%', 'opp_TOV%', 'opp_ORB%', 'opp_FT/FGA' \n",
    "# ]]\n",
    "# full2_df.head()"
   ]
  },
  {
   "cell_type": "code",
   "execution_count": null,
   "id": "71f5ac3d",
   "metadata": {},
   "outputs": [],
   "source": [
    "# full2_df.groupby('Season').sum()"
   ]
  },
  {
   "cell_type": "code",
   "execution_count": null,
   "id": "c5227ad0",
   "metadata": {},
   "outputs": [],
   "source": [
    "# y = name_df.Team_Name\n",
    "# X = name_df.drop(columns=[\"Team_Name\"])\n",
    "# y"
   ]
  },
  {
   "cell_type": "code",
   "execution_count": null,
   "id": "4c909c0c",
   "metadata": {},
   "outputs": [],
   "source": [
    "# # Split training/test datasets\n",
    "# X1_train, X1_test, y1_train, y1_test = train_test_split(X, y, random_state=1, stratify=y)"
   ]
  },
  {
   "cell_type": "code",
   "execution_count": null,
   "id": "a1668f68",
   "metadata": {},
   "outputs": [],
   "source": [
    "# y1_test"
   ]
  },
  {
   "cell_type": "code",
   "execution_count": null,
   "id": "4cc8ef55",
   "metadata": {},
   "outputs": [],
   "source": []
  }
 ],
 "metadata": {
  "kernelspec": {
   "display_name": "mlenv",
   "language": "python",
   "name": "mlenv"
  },
  "language_info": {
   "codemirror_mode": {
    "name": "ipython",
    "version": 3
   },
   "file_extension": ".py",
   "mimetype": "text/x-python",
   "name": "python",
   "nbconvert_exporter": "python",
   "pygments_lexer": "ipython3",
   "version": "3.7.10"
  }
 },
 "nbformat": 4,
 "nbformat_minor": 5
}
